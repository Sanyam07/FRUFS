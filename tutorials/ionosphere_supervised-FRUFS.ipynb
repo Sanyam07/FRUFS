{
 "cells": [
  {
   "cell_type": "markdown",
   "metadata": {},
   "source": [
    "## Get all imports"
   ]
  },
  {
   "cell_type": "code",
   "execution_count": 1,
   "metadata": {},
   "outputs": [],
   "source": [
    "import math\n",
    "import numpy as np\n",
    "import pandas as pd\n",
    "from collections import Counter\n",
    "from sklearn.tree import DecisionTreeClassifier, DecisionTreeRegressor\n",
    "from sklearn.metrics import accuracy_score\n",
    "from sklearn.model_selection import KFold, StratifiedKFold\n",
    "import time\n",
    "from FRUFS import FRUFS\n",
    "from sklearn.cluster import KMeans\n",
    "from matplotlib.pyplot import figure\n",
    "from sklearn.metrics.cluster import normalized_mutual_info_score\n",
    "from lightgbm import LGBMRegressor"
   ]
  },
  {
   "cell_type": "markdown",
   "metadata": {},
   "source": [
    "## Load data"
   ]
  },
  {
   "cell_type": "code",
   "execution_count": 2,
   "metadata": {},
   "outputs": [
    {
     "data": {
      "text/html": [
       "<div>\n",
       "<style scoped>\n",
       "    .dataframe tbody tr th:only-of-type {\n",
       "        vertical-align: middle;\n",
       "    }\n",
       "\n",
       "    .dataframe tbody tr th {\n",
       "        vertical-align: top;\n",
       "    }\n",
       "\n",
       "    .dataframe thead th {\n",
       "        text-align: right;\n",
       "    }\n",
       "</style>\n",
       "<table border=\"1\" class=\"dataframe\">\n",
       "  <thead>\n",
       "    <tr style=\"text-align: right;\">\n",
       "      <th></th>\n",
       "      <th>0</th>\n",
       "      <th>1</th>\n",
       "      <th>2</th>\n",
       "      <th>3</th>\n",
       "      <th>4</th>\n",
       "      <th>5</th>\n",
       "      <th>6</th>\n",
       "      <th>7</th>\n",
       "      <th>8</th>\n",
       "      <th>9</th>\n",
       "      <th>...</th>\n",
       "      <th>25</th>\n",
       "      <th>26</th>\n",
       "      <th>27</th>\n",
       "      <th>28</th>\n",
       "      <th>29</th>\n",
       "      <th>30</th>\n",
       "      <th>31</th>\n",
       "      <th>32</th>\n",
       "      <th>33</th>\n",
       "      <th>34</th>\n",
       "    </tr>\n",
       "  </thead>\n",
       "  <tbody>\n",
       "    <tr>\n",
       "      <th>0</th>\n",
       "      <td>1</td>\n",
       "      <td>0</td>\n",
       "      <td>0.99539</td>\n",
       "      <td>-0.05889</td>\n",
       "      <td>0.85243</td>\n",
       "      <td>0.02306</td>\n",
       "      <td>0.83398</td>\n",
       "      <td>-0.37708</td>\n",
       "      <td>1.00000</td>\n",
       "      <td>0.03760</td>\n",
       "      <td>...</td>\n",
       "      <td>-0.51171</td>\n",
       "      <td>0.41078</td>\n",
       "      <td>-0.46168</td>\n",
       "      <td>0.21266</td>\n",
       "      <td>-0.34090</td>\n",
       "      <td>0.42267</td>\n",
       "      <td>-0.54487</td>\n",
       "      <td>0.18641</td>\n",
       "      <td>-0.45300</td>\n",
       "      <td>1</td>\n",
       "    </tr>\n",
       "    <tr>\n",
       "      <th>1</th>\n",
       "      <td>1</td>\n",
       "      <td>0</td>\n",
       "      <td>1.00000</td>\n",
       "      <td>-0.18829</td>\n",
       "      <td>0.93035</td>\n",
       "      <td>-0.36156</td>\n",
       "      <td>-0.10868</td>\n",
       "      <td>-0.93597</td>\n",
       "      <td>1.00000</td>\n",
       "      <td>-0.04549</td>\n",
       "      <td>...</td>\n",
       "      <td>-0.26569</td>\n",
       "      <td>-0.20468</td>\n",
       "      <td>-0.18401</td>\n",
       "      <td>-0.19040</td>\n",
       "      <td>-0.11593</td>\n",
       "      <td>-0.16626</td>\n",
       "      <td>-0.06288</td>\n",
       "      <td>-0.13738</td>\n",
       "      <td>-0.02447</td>\n",
       "      <td>0</td>\n",
       "    </tr>\n",
       "    <tr>\n",
       "      <th>2</th>\n",
       "      <td>1</td>\n",
       "      <td>0</td>\n",
       "      <td>1.00000</td>\n",
       "      <td>-0.03365</td>\n",
       "      <td>1.00000</td>\n",
       "      <td>0.00485</td>\n",
       "      <td>1.00000</td>\n",
       "      <td>-0.12062</td>\n",
       "      <td>0.88965</td>\n",
       "      <td>0.01198</td>\n",
       "      <td>...</td>\n",
       "      <td>-0.40220</td>\n",
       "      <td>0.58984</td>\n",
       "      <td>-0.22145</td>\n",
       "      <td>0.43100</td>\n",
       "      <td>-0.17365</td>\n",
       "      <td>0.60436</td>\n",
       "      <td>-0.24180</td>\n",
       "      <td>0.56045</td>\n",
       "      <td>-0.38238</td>\n",
       "      <td>1</td>\n",
       "    </tr>\n",
       "    <tr>\n",
       "      <th>3</th>\n",
       "      <td>1</td>\n",
       "      <td>0</td>\n",
       "      <td>1.00000</td>\n",
       "      <td>-0.45161</td>\n",
       "      <td>1.00000</td>\n",
       "      <td>1.00000</td>\n",
       "      <td>0.71216</td>\n",
       "      <td>-1.00000</td>\n",
       "      <td>0.00000</td>\n",
       "      <td>0.00000</td>\n",
       "      <td>...</td>\n",
       "      <td>0.90695</td>\n",
       "      <td>0.51613</td>\n",
       "      <td>1.00000</td>\n",
       "      <td>1.00000</td>\n",
       "      <td>-0.20099</td>\n",
       "      <td>0.25682</td>\n",
       "      <td>1.00000</td>\n",
       "      <td>-0.32382</td>\n",
       "      <td>1.00000</td>\n",
       "      <td>0</td>\n",
       "    </tr>\n",
       "    <tr>\n",
       "      <th>4</th>\n",
       "      <td>1</td>\n",
       "      <td>0</td>\n",
       "      <td>1.00000</td>\n",
       "      <td>-0.02401</td>\n",
       "      <td>0.94140</td>\n",
       "      <td>0.06531</td>\n",
       "      <td>0.92106</td>\n",
       "      <td>-0.23255</td>\n",
       "      <td>0.77152</td>\n",
       "      <td>-0.16399</td>\n",
       "      <td>...</td>\n",
       "      <td>-0.65158</td>\n",
       "      <td>0.13290</td>\n",
       "      <td>-0.53206</td>\n",
       "      <td>0.02431</td>\n",
       "      <td>-0.62197</td>\n",
       "      <td>-0.05707</td>\n",
       "      <td>-0.59573</td>\n",
       "      <td>-0.04608</td>\n",
       "      <td>-0.65697</td>\n",
       "      <td>1</td>\n",
       "    </tr>\n",
       "  </tbody>\n",
       "</table>\n",
       "<p>5 rows × 35 columns</p>\n",
       "</div>"
      ],
      "text/plain": [
       "   0   1        2        3        4        5        6        7        8   \\\n",
       "0   1   0  0.99539 -0.05889  0.85243  0.02306  0.83398 -0.37708  1.00000   \n",
       "1   1   0  1.00000 -0.18829  0.93035 -0.36156 -0.10868 -0.93597  1.00000   \n",
       "2   1   0  1.00000 -0.03365  1.00000  0.00485  1.00000 -0.12062  0.88965   \n",
       "3   1   0  1.00000 -0.45161  1.00000  1.00000  0.71216 -1.00000  0.00000   \n",
       "4   1   0  1.00000 -0.02401  0.94140  0.06531  0.92106 -0.23255  0.77152   \n",
       "\n",
       "        9   ...       25       26       27       28       29       30  \\\n",
       "0  0.03760  ... -0.51171  0.41078 -0.46168  0.21266 -0.34090  0.42267   \n",
       "1 -0.04549  ... -0.26569 -0.20468 -0.18401 -0.19040 -0.11593 -0.16626   \n",
       "2  0.01198  ... -0.40220  0.58984 -0.22145  0.43100 -0.17365  0.60436   \n",
       "3  0.00000  ...  0.90695  0.51613  1.00000  1.00000 -0.20099  0.25682   \n",
       "4 -0.16399  ... -0.65158  0.13290 -0.53206  0.02431 -0.62197 -0.05707   \n",
       "\n",
       "        31       32       33  34  \n",
       "0 -0.54487  0.18641 -0.45300   1  \n",
       "1 -0.06288 -0.13738 -0.02447   0  \n",
       "2 -0.24180  0.56045 -0.38238   1  \n",
       "3  1.00000 -0.32382  1.00000   0  \n",
       "4 -0.59573 -0.04608 -0.65697   1  \n",
       "\n",
       "[5 rows x 35 columns]"
      ]
     },
     "metadata": {},
     "output_type": "display_data"
    },
    {
     "name": "stdout",
     "output_type": "stream",
     "text": [
      "Data shape:  (351, 34) Target Variable shape:  (351,)\n"
     ]
    }
   ],
   "source": [
    "# Load the data into a dataframe\n",
    "df = pd.read_csv(\"../data/ionosphere/ionosphere.data\", header=None)\n",
    "# Pre-process the data\n",
    "df[34] = df[34].str.replace(\"g\", '1').replace(\"b\", '0')\n",
    "# Lets check it out\n",
    "display(df.head())\n",
    "# Split the data into input features and target variable\n",
    "data, Y = df.drop([34], axis=1), df[34].values\n",
    "# Lets check out the shape of our data\n",
    "print(\"Data shape: \", data.shape, \"Target Variable shape: \", Y.shape)\n",
    "\n",
    "num_classes = 2"
   ]
  },
  {
   "cell_type": "markdown",
   "metadata": {},
   "source": [
    "## Modelling with Decision Tree without FRUFS (no feature selection)"
   ]
  },
  {
   "cell_type": "code",
   "execution_count": 3,
   "metadata": {},
   "outputs": [
    {
     "name": "stdout",
     "output_type": "stream",
     "text": [
      "Score: 0.9436619718309859\n",
      "Score: 0.9142857142857143\n",
      "Score: 0.8285714285714286\n",
      "Score: 0.8428571428571429\n",
      "Score: 0.8714285714285714\n",
      "\n",
      "\n",
      "Average Accuracy:  0.8801609657947687\n",
      "\n",
      "\n",
      "Total Time Required (in seconds):  0.027924776077270508\n"
     ]
    }
   ],
   "source": [
    "# We want to time our algorithm\n",
    "start = time.time()\n",
    "# Use KFold for understanding the performance of PyImpetus\n",
    "kfold = KFold(n_splits=5, random_state=27, shuffle=True)\n",
    "# This will hold all the accuracy scores\n",
    "scores = list()\n",
    "# Perform CV\n",
    "for train, test in kfold.split(data):\n",
    "    # Split data into train and test based on folds\n",
    "    x_train, x_test = data.iloc[train], data.iloc[test]\n",
    "    y_train, y_test = Y[train], Y[test]\n",
    "    \n",
    "    # Convert the data into numpy arrays\n",
    "    x_train, x_test = x_train.values, x_test.values\n",
    "    \n",
    "    model_kmeans = DecisionTreeClassifier(random_state=27)\n",
    "    model_kmeans.fit(x_train, y_train)\n",
    "    preds = model_kmeans.predict(x_test)\n",
    "\n",
    "    # We are going to use the NMI metric to measure the quality/performance of the clustering \n",
    "    score = accuracy_score(y_test, preds)\n",
    "    print(\"Score:\", score)\n",
    "    scores.append(score)\n",
    "# Compute average score\n",
    "print(\"\\n\\nAverage Accuracy: \", sum(scores)/len(scores))\n",
    "# Finally, check out the total time taken\n",
    "end = time.time()\n",
    "print(\"\\n\\nTotal Time Required (in seconds): \", end-start)"
   ]
  },
  {
   "cell_type": "markdown",
   "metadata": {},
   "source": [
    "## Modelling with FRUFS (feature selection is applied)"
   ]
  },
  {
   "cell_type": "code",
   "execution_count": 4,
   "metadata": {},
   "outputs": [
    {
     "name": "stderr",
     "output_type": "stream",
     "text": [
      "Progress bar: 100%|████████| 34/34 [00:04<00:00,  7.70it/s]\n"
     ]
    },
    {
     "name": "stdout",
     "output_type": "stream",
     "text": [
      "Score: 0.9154929577464789\n"
     ]
    },
    {
     "name": "stderr",
     "output_type": "stream",
     "text": [
      "Progress bar: 100%|███████| 34/34 [00:00<00:00, 741.13it/s]\n"
     ]
    },
    {
     "name": "stdout",
     "output_type": "stream",
     "text": [
      "Score: 0.9857142857142858\n"
     ]
    },
    {
     "name": "stderr",
     "output_type": "stream",
     "text": [
      "Progress bar: 100%|███████| 34/34 [00:00<00:00, 897.11it/s]\n"
     ]
    },
    {
     "name": "stdout",
     "output_type": "stream",
     "text": [
      "Score: 0.9\n"
     ]
    },
    {
     "name": "stderr",
     "output_type": "stream",
     "text": [
      "Progress bar: 100%|███████| 34/34 [00:00<00:00, 897.11it/s]\n"
     ]
    },
    {
     "name": "stdout",
     "output_type": "stream",
     "text": [
      "Score: 0.8857142857142857\n"
     ]
    },
    {
     "name": "stderr",
     "output_type": "stream",
     "text": [
      "Progress bar: 100%|███████| 34/34 [00:00<00:00, 873.43it/s]"
     ]
    },
    {
     "name": "stdout",
     "output_type": "stream",
     "text": [
      "Score: 0.8857142857142857\n",
      "\n",
      "\n",
      "Average Accuracy:  0.9145271629778673\n",
      "\n",
      "\n",
      "Total Time Required (in seconds):  4.612658977508545\n"
     ]
    },
    {
     "name": "stderr",
     "output_type": "stream",
     "text": [
      "\n"
     ]
    }
   ],
   "source": [
    "# We want to time our algorithm\n",
    "start = time.time()\n",
    "# Use KFold for understanding the performance of PyImpetus\n",
    "kfold = KFold(n_splits=5, random_state=27, shuffle=True)\n",
    "# This will hold all the accuracy scores\n",
    "scores = list()\n",
    "# Perform CV\n",
    "for train, test in kfold.split(data):\n",
    "    # Split data into train and test based on folds\n",
    "    x_train, x_test = data.iloc[train], data.iloc[test]\n",
    "    y_train, y_test = Y[train], Y[test]\n",
    "    \n",
    "    # Convert the data into numpy arrays\n",
    "    x_train, x_test = x_train.values, x_test.values\n",
    "    \n",
    "    # Initialize the FRUFS object with your supervised algorithm of choice\n",
    "    model = FRUFS(model_r=DecisionTreeRegressor(random_state=27), k=24, n_jobs=-1, verbose=0, random_state=27)\n",
    "    # Train the FRUFS model and use it to downsize your data\n",
    "    x_train = model.fit_transform(x_train)\n",
    "    x_test = model.transform(x_test)\n",
    "    \n",
    "    # Finally, classify on selected features\n",
    "    model_kmeans = DecisionTreeClassifier(random_state=27)\n",
    "    model_kmeans.fit(x_train, y_train)\n",
    "    preds = model_kmeans.predict(x_test)\n",
    "\n",
    "    # We are going to use the NMI metric to measure the quality/performance of the clustering \n",
    "    score = accuracy_score(y_test, preds)\n",
    "    print(\"Score:\", score)\n",
    "    scores.append(score)\n",
    "# Compute average score\n",
    "print(\"\\n\\nAverage Accuracy: \", sum(scores)/len(scores))\n",
    "# Finally, check out the total time taken\n",
    "end = time.time()\n",
    "print(\"\\n\\nTotal Time Required (in seconds): \", end-start)"
   ]
  },
  {
   "cell_type": "markdown",
   "metadata": {},
   "source": [
    "# Final Results (Accuracy is used so higher is better)"
   ]
  },
  {
   "cell_type": "markdown",
   "metadata": {},
   "source": [
    "### Final Accuracy using all features: 88.02 (0.028 seconds)\n",
    "### Final Accuracy using PyImpetus recommended features: 91.45 (4.613 seconds)"
   ]
  },
  {
   "cell_type": "code",
   "execution_count": 6,
   "metadata": {},
   "outputs": [
    {
     "data": {
      "image/png": "[encoded data removed]",
      "text/plain": [
       "<Figure size 800x2000 with 1 Axes>"
      ]
     },
     "metadata": {
      "needs_background": "light"
     },
     "output_type": "display_data"
    }
   ],
   "source": [
    "figure(figsize=(8, 20), dpi=100)\n",
    "model.feature_importance()"
   ]
  },
  {
   "cell_type": "markdown",
   "metadata": {},
   "source": []
  }
 ],
 "metadata": {
  "kernelspec": {
   "display_name": "Python 3 (ipykernel)",
   "language": "python",
   "name": "python3"
  },
  "language_info": {
   "codemirror_mode": {
    "name": "ipython",
    "version": 3
   },
   "file_extension": ".py",
   "mimetype": "text/x-python",
   "name": "python",
   "nbconvert_exporter": "python",
   "pygments_lexer": "ipython3",
   "version": "3.8.12"
  }
 },
 "nbformat": 4,
 "nbformat_minor": 4
}
